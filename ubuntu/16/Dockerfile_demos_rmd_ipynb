FROM fabienors/ubuntu-16-demos-rmd-ipynb

RUN apt-get update

# Install dev libs (for Python)
# ==============================================================
RUN apt-get install -y pandoc &&\
    apt-get install -y libsqlite3-dev

# Install dev libs & tools (for R)
# ==============================================================
RUN apt-get install -y tzdata &&\
    apt-get install -y libcairo2-dev &&\
    apt-get install -y libxt-dev

# Install Python packages for demos generation
# ==============================================================
RUN export PATH=/opt/python/py311/bin:/usr/local/sbin:/usr/local/bin:/usr/sbin:/usr/bin:/sbin:/bin &&\
    jupyter --version &&\
    python3 -m pip install jupyter==6.1.6 &&\
    python3 -m pip install pypandoc &&\
    jupyter --version &&\
    cd .. &&\
    rm -rf Python-3.11.1*

