FROM fabienors/ubuntu-16-swigex0

RUN apt-get update

# Show git version
# ==============================================================
RUN git --version

# Install Python packages for demos generation
# ==============================================================
RUN export PATH=/opt/python/py311/bin:/usr/local/sbin:/usr/local/bin:/usr/sbin:/usr/bin:/sbin:/bin &&\
    python3 -m pip install jupyter &&\
    jupyter --version &&\
    python3 -m pip install notebook==6.1.6 &&\
    python3 -m pip install pypandoc &&\
    python3 -m pip install pandas scipy matplotlib plotly shapely &&\
    jupyter --version
