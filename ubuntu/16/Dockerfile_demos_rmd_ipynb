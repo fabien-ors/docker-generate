FROM fabienors/ubuntu-16-swigex0

RUN apt-get update

# Show git version
# ==============================================================
RUN git --version

# Install dev libs (for Python)
# ==============================================================
RUN apt-get install -y pandoc &&\
    apt-get install -y libsqlite3-dev

# Install dev libs & tools (for R)
# ==============================================================
RUN apt-get install -y tzdata &&\
    apt-get install -y libcairo2-dev &&\
    apt-get install -y libxt-dev

# Install Python packages for demos generation
# ==============================================================
RUN export PATH=/opt/python/py311/bin:/usr/local/sbin:/usr/local/bin:/usr/sbin:/usr/bin:/sbin:/bin &&\
    python3 -m pip install jupyter &&\
    jupyter --version &&\
    python3 -m pip install notebook==6.1.6 &&\
    python3 -m pip install pypandoc &&\
    python3 -m pip install pandas scipy matplotlib geopandas plotly scikit-sparse shapely dash &&\
    jupyter --version
